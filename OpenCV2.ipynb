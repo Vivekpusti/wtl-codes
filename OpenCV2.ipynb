{
 "cells": [
  {
   "cell_type": "code",
   "execution_count": 2,
   "id": "5260a447",
   "metadata": {},
   "outputs": [],
   "source": [
    "import cv2 as cv\n",
    "import numpy as np"
   ]
  },
  {
   "cell_type": "code",
   "execution_count": 3,
   "id": "c7d82306",
   "metadata": {},
   "outputs": [],
   "source": [
    "image=cv.imread('C:\\\\Users\\\\cheul\\\\Downloads\\coffee.jpg')"
   ]
  },
  {
   "cell_type": "code",
   "execution_count": 4,
   "id": "4d054a13",
   "metadata": {},
   "outputs": [
    {
     "data": {
      "text/plain": [
       "-1"
      ]
     },
     "execution_count": 4,
     "metadata": {},
     "output_type": "execute_result"
    }
   ],
   "source": [
    "cv.imshow(\"Image\",image)\n",
    "cv.waitKey(0)"
   ]
  },
  {
   "cell_type": "code",
   "execution_count": 5,
   "id": "e658c322",
   "metadata": {},
   "outputs": [
    {
     "data": {
      "text/plain": [
       "(900, 1200, 3)"
      ]
     },
     "execution_count": 5,
     "metadata": {},
     "output_type": "execute_result"
    }
   ],
   "source": [
    "image.shape"
   ]
  },
  {
   "cell_type": "code",
   "execution_count": 6,
   "id": "46ceb913",
   "metadata": {},
   "outputs": [
    {
     "data": {
      "text/plain": [
       "-1"
      ]
     },
     "execution_count": 6,
     "metadata": {},
     "output_type": "execute_result"
    }
   ],
   "source": [
    "#cornering the image , viewing the image in a corner\n",
    "corner=image[0:100,0:100]\n",
    "cv.imshow(\"Corner\",corner)\n",
    "cv.waitKey(0)"
   ]
  },
  {
   "cell_type": "code",
   "execution_count": 7,
   "id": "ede2e13a",
   "metadata": {},
   "outputs": [
    {
     "data": {
      "text/plain": [
       "-1"
      ]
     },
     "execution_count": 7,
     "metadata": {},
     "output_type": "execute_result"
    }
   ],
   "source": [
    "#creating a canvas , diagonal green line\n",
    "canvas=np.zeros((300,300,3), dtype = \"uint8\")\n",
    "#RGB(255,255,255)\n",
    "green = (0,0,255)\n",
    "cv.line(canvas,(0,0), (300,300), green,4)\n",
    "cv.imshow(\"Canvas\", canvas)\n",
    "cv.waitKey(0)\n"
   ]
  },
  {
   "cell_type": "code",
   "execution_count": 8,
   "id": "22e864a6",
   "metadata": {},
   "outputs": [
    {
     "name": "stdout",
     "output_type": "stream",
     "text": [
      "900\n",
      "1200\n"
     ]
    },
    {
     "data": {
      "text/plain": [
       "-1"
      ]
     },
     "execution_count": 8,
     "metadata": {},
     "output_type": "execute_result"
    }
   ],
   "source": [
    "#IMage Translation , shifting of image down and right\n",
    "M=np.float32([[1,0,25],[0,1,50]])\n",
    "print(image.shape[0])\n",
    "print(image.shape[1])\n",
    "shifted = cv.warpAffine(image, M, (image.shape[1], image.shape[0]))\n",
    "cv.imshow(\"Shifted Down and Right\", shifted)\n",
    "cv.waitKey(0)"
   ]
  },
  {
   "cell_type": "code",
   "execution_count": 9,
   "id": "cfcf6064",
   "metadata": {},
   "outputs": [
    {
     "data": {
      "text/plain": [
       "-1"
      ]
     },
     "execution_count": 9,
     "metadata": {},
     "output_type": "execute_result"
    }
   ],
   "source": [
    "#Rotation of IMage\n",
    "#we are trying to rotate the image by 45degrees\n",
    "cv.imshow(\"Original\", image)\n",
    "(h,w) = image.shape[:2]\n",
    "#h=image.shape[0]\n",
    "#w=image.shape[1]\n",
    "\n",
    "center = (w//2,h//2)\n",
    "M = cv.getRotationMatrix2D(center,45,1.0)\n",
    "rotated = cv.warpAffine (image, M, (w,h))\n",
    "cv.imshow(\"Rotated by 45 Degrees\", rotated)\n",
    "cv.waitKey(0)\n"
   ]
  },
  {
   "cell_type": "code",
   "execution_count": 10,
   "id": "d4f95480",
   "metadata": {},
   "outputs": [
    {
     "name": "stdout",
     "output_type": "stream",
     "text": [
      "(900, 1200, 3)\n",
      "(112, 150, 3)\n"
     ]
    },
    {
     "data": {
      "text/plain": [
       "-1"
      ]
     },
     "execution_count": 10,
     "metadata": {},
     "output_type": "execute_result"
    }
   ],
   "source": [
    "# REsizing of image and comparing original with resized image\n",
    "cv.imshow(\"Original\",image)\n",
    "print(image.shape)\n",
    "r=150.0/image.shape[1]\n",
    "dim=(150,int (image.shape[0]*r))\n",
    "resized=cv.resize(image,dim,interpolation=cv.INTER_AREA)\n",
    "print(resized.shape)\n",
    "cv.imshow(\"Resized(width)\",resized)\n",
    "cv.waitKey(0)\n"
   ]
  },
  {
   "cell_type": "code",
   "execution_count": 11,
   "id": "fb90f976",
   "metadata": {},
   "outputs": [
    {
     "data": {
      "text/plain": [
       "-1"
      ]
     },
     "execution_count": 11,
     "metadata": {},
     "output_type": "execute_result"
    }
   ],
   "source": [
    "#flipping the horizontally\n",
    "cv.imshow(\"Original\", image)\n",
    "flipped = cv.flip(image, 0)\n",
    "cv.imshow(\"Flipped Horizontally\", flipped)\n",
    "cv.waitKey(0)"
   ]
  },
  {
   "cell_type": "code",
   "execution_count": 18,
   "id": "bd6cf6ae",
   "metadata": {},
   "outputs": [
    {
     "data": {
      "text/plain": [
       "-1"
      ]
     },
     "execution_count": 18,
     "metadata": {},
     "output_type": "execute_result"
    }
   ],
   "source": [
    "#flipping the image vertically\n",
    "cv.imshow(\"Original\", image)\n",
    "flipped=cv.flip(image,0)\n",
    "cv.imshow(\"Flipped Vertically\", flipped)\n",
    "cv.waitKey(0)"
   ]
  },
  {
   "cell_type": "code",
   "execution_count": 19,
   "id": "a5978a82",
   "metadata": {},
   "outputs": [
    {
     "data": {
      "text/plain": [
       "-1"
      ]
     },
     "execution_count": 19,
     "metadata": {},
     "output_type": "execute_result"
    }
   ],
   "source": [
    "#blurred IMage\n",
    "blurred_image = cv.blur(image,(100,100))\n",
    "cv.imshow(\"blurred image\", blurred_image)\n",
    "cv.waitKey(0)"
   ]
  },
  {
   "cell_type": "code",
   "execution_count": 20,
   "id": "679ab9dd",
   "metadata": {},
   "outputs": [
    {
     "data": {
      "text/plain": [
       "-1"
      ]
     },
     "execution_count": 20,
     "metadata": {},
     "output_type": "execute_result"
    }
   ],
   "source": [
    "#read image in grayscale\n",
    "image_grayscale = cv.imread('C:\\\\Users\\\\cheul\\\\Downloads\\coffee.jpg', 0)\n",
    "cv.imshow(\"image grayscale\", image_grayscale)\n",
    "cv.waitKey(0)"
   ]
  },
  {
   "cell_type": "code",
   "execution_count": 23,
   "id": "8fc4f95a",
   "metadata": {},
   "outputs": [
    {
     "data": {
      "text/plain": [
       "-1"
      ]
     },
     "execution_count": 23,
     "metadata": {},
     "output_type": "execute_result"
    }
   ],
   "source": [
    "#cropped image\n",
    "cropped_image = image[0:300,0:300]\n",
    "cv.imshow(\"cropped image\", cropped_image)\n",
    "cv.waitKey(0)"
   ]
  },
  {
   "cell_type": "code",
   "execution_count": 24,
   "id": "aba57170",
   "metadata": {},
   "outputs": [
    {
     "data": {
      "text/plain": [
       "-1"
      ]
     },
     "execution_count": 24,
     "metadata": {},
     "output_type": "execute_result"
    }
   ],
   "source": [
    "color_img = cv.cvtColor(image_grayscale, cv.COLOR_GRAY2RGB)*900\n",
    "cv.imshow(\"Colored image\", color_img)\n",
    "cv.waitKey(0)"
   ]
  },
  {
   "cell_type": "code",
   "execution_count": null,
   "id": "a8ac40d5",
   "metadata": {},
   "outputs": [],
   "source": []
  },
  {
   "cell_type": "code",
   "execution_count": null,
   "id": "067bf85d",
   "metadata": {},
   "outputs": [],
   "source": []
  }
 ],
 "metadata": {
  "kernelspec": {
   "display_name": "Python 3 (ipykernel)",
   "language": "python",
   "name": "python3"
  },
  "language_info": {
   "codemirror_mode": {
    "name": "ipython",
    "version": 3
   },
   "file_extension": ".py",
   "mimetype": "text/x-python",
   "name": "python",
   "nbconvert_exporter": "python",
   "pygments_lexer": "ipython3",
   "version": "3.9.7"
  }
 },
 "nbformat": 4,
 "nbformat_minor": 5
}
